{
 "cells": [
  {
   "cell_type": "code",
   "execution_count": 1,
   "metadata": {
    "collapsed": true
   },
   "outputs": [],
   "source": [
    "# use random forest for breast cancer dara\n",
    "# number of trees\n",
    "# cross-validation, and oob\n",
    "# feature importance"
   ]
  },
  {
   "cell_type": "code",
   "execution_count": 2,
   "metadata": {
    "collapsed": true
   },
   "outputs": [],
   "source": [
    "import numpy as np"
   ]
  },
  {
   "cell_type": "code",
   "execution_count": 6,
   "metadata": {},
   "outputs": [
    {
     "name": "stdout",
     "output_type": "stream",
     "text": [
      "[10  6  8  8 10  2  6  5 10  4]\n",
      "[2 6 6 9 8 5 8 7 2 4]\n",
      "[ 1  9  4  9  1 10  2  3  7  8]\n",
      "[ 3  1  3  9  5  4  4  2 10  7]\n",
      "[4 5 3 7 4 3 8 3 7 8]\n"
     ]
    }
   ],
   "source": [
    "# boorstrapping \n",
    "data = [1,2,3,4,5,6,7,8,9,10]\n",
    "\n",
    "for i in range(5):\n",
    "    bootstrapping = np.random.choice(data, len(data), replace=True)\n",
    "    print(bootstrapping)"
   ]
  },
  {
   "cell_type": "code",
   "execution_count": 7,
   "metadata": {},
   "outputs": [
    {
     "name": "stdout",
     "output_type": "stream",
     "text": [
      "[ 4  6 10  2  1  8  9  5  7  3]\n",
      "[ 5  6  1  3  8  4  9 10  7  2]\n",
      "[ 5  7  6  8  4  2  9  3  1 10]\n",
      "[ 2  7 10  9  8  6  4  5  3  1]\n",
      "[ 7  6  9  4  8  1 10  3  2  5]\n"
     ]
    }
   ],
   "source": [
    "for i in range(5):\n",
    "    bootstrapping = np.random.choice(data, len(data), replace=False)\n",
    "    print(bootstrapping)"
   ]
  },
  {
   "cell_type": "code",
   "execution_count": 8,
   "metadata": {
    "collapsed": true
   },
   "outputs": [],
   "source": [
    "from sklearn.datasets import load_breast_cancer"
   ]
  },
  {
   "cell_type": "code",
   "execution_count": 9,
   "metadata": {
    "collapsed": true
   },
   "outputs": [],
   "source": [
    "data = load_breast_cancer()"
   ]
  },
  {
   "cell_type": "code",
   "execution_count": 10,
   "metadata": {},
   "outputs": [
    {
     "name": "stdout",
     "output_type": "stream",
     "text": [
      "(569, 30)\n",
      "(569, 599)\n",
      "[0 0]\n"
     ]
    }
   ],
   "source": [
    "X = data.data\n",
    "Y = data.target\n",
    "print(X.shape)\n",
    "# to demonstrate the case, when there are a lot of noisy featureas\n",
    "noise = np.random.randn(X.shape[0],X.shape[0]) # noise from normal distribution\n",
    "X = np.hstack([X,noise]) # h=horizontal\n",
    "print X.shape\n",
    "print Y[:2]"
   ]
  },
  {
   "cell_type": "code",
   "execution_count": 12,
   "metadata": {},
   "outputs": [],
   "source": [
    "from sklearn.model_selection import  train_test_split\n",
    "X_train, X_test, Y_train, Y_test = train_test_split(X,Y)"
   ]
  },
  {
   "cell_type": "code",
   "execution_count": 19,
   "metadata": {
    "collapsed": true
   },
   "outputs": [],
   "source": [
    "# experiment 1, prediction power and # of trees\n",
    "from sklearn.ensemble import RandomForestClassifier as RFC\n",
    "#RandomForestClassifier的大部分参数是为了决定什么时候stop,to avoid overfitting\n",
    "scores = []\n",
    "n_trees_list = [1,2,5,10,20,50,80]\n",
    "for n_trees in n_trees_list:\n",
    "    model = RFC(n_estimators = n_trees)\n",
    "    model.fit(X_train,Y_train)\n",
    "    scores.append(model.score(X_test,Y_test))"
   ]
  },
  {
   "cell_type": "code",
   "execution_count": 20,
   "metadata": {},
   "outputs": [
    {
     "data": {
      "image/png": "[encoded data removed]",
      "text/plain": [
       "<matplotlib.figure.Figure at 0x11a6acfd0>"
      ]
     },
     "metadata": {},
     "output_type": "display_data"
    }
   ],
   "source": [
    "import matplotlib.pyplot as plt\n",
    "%matplotlib inline\n",
    "\n",
    "plt.plot(n_trees_list, scores)\n",
    "plt.xlabel(\"# of trees\")\n",
    "plt.ylabel(\"prediction accuracy\")\n",
    "plt.show()\n",
    "\n",
    "# in principle, the more trees, the better\n",
    "# 从原理上解释"
   ]
  },
  {
   "cell_type": "code",
   "execution_count": 24,
   "metadata": {
    "scrolled": true
   },
   "outputs": [
    {
     "data": {
      "image/png": "[encoded data removed]",
      "text/plain": [
       "<matplotlib.figure.Figure at 0x11a836d50>"
      ]
     },
     "metadata": {},
     "output_type": "display_data"
    }
   ],
   "source": [
    "# experiment 2, prediction power and # of trees\n",
    "from sklearn.ensemble import RandomForestClassifier as RFC\n",
    "#RandomForestClassifier的大部分参数是为了决定什么时候stop,to avoid overfitting\n",
    "scores = []\n",
    "n_trees_list = [1,2,5,10,20,50,80,100,200,500]\n",
    "# 当#=500,一共才500+数据\n",
    "for n_trees in n_trees_list:\n",
    "    model = RFC(n_estimators = n_trees, max_features=3)\n",
    "    model.fit(X_train,Y_train)\n",
    "    scores.append(model.score(X_test,Y_test))\n",
    "\n",
    "plt.plot(n_trees_list, scores)\n",
    "plt.xlabel(\"# of trees\")\n",
    "plt.ylabel(\"prediction accuracy\")\n",
    "plt.show()"
   ]
  },
  {
   "cell_type": "code",
   "execution_count": 25,
   "metadata": {
    "scrolled": true
   },
   "outputs": [
    {
     "data": {
      "text/plain": [
       "RandomForestClassifier(bootstrap=True, class_weight=None, criterion='gini',\n",
       "            max_depth=None, max_features='auto', max_leaf_nodes=None,\n",
       "            min_impurity_split=1e-07, min_samples_leaf=1,\n",
       "            min_samples_split=2, min_weight_fraction_leaf=0.0,\n",
       "            n_estimators=50, n_jobs=1, oob_score=False, random_state=None,\n",
       "            verbose=0, warm_start=False)"
      ]
     },
     "execution_count": 25,
     "metadata": {},
     "output_type": "execute_result"
    }
   ],
   "source": [
    "# feature importance\n",
    "model = RFC(50)\n",
    "model.fit(X_train,Y_train)"
   ]
  },
  {
   "cell_type": "code",
   "execution_count": 26,
   "metadata": {},
   "outputs": [
    {
     "data": {
      "text/plain": [
       "array([  4.35626120e-02,   1.22316679e-02,   7.28188195e-02,\n",
       "         2.86037350e-02,   2.30980378e-03,   1.14592574e-02,\n",
       "         3.80097183e-02,   5.88559895e-02,   2.57163465e-03,\n",
       "         4.03312264e-03,   1.26615733e-02,   5.00181300e-04,\n",
       "         1.21530871e-02,   3.09087106e-02,   1.82067154e-03,\n",
       "         1.41819919e-02,   1.05957575e-02,   1.08501658e-02,\n",
       "         1.25932211e-03,   2.01747553e-03,   4.48920272e-02,\n",
       "         9.62598130e-03,   4.21590821e-02,   9.70965347e-02,\n",
       "         1.00435706e-02,   3.30694203e-02,   3.01975238e-02,\n",
       "         6.27612208e-02,   1.44972359e-02,   5.37705635e-03,\n",
       "         8.71001773e-04,   0.00000000e+00,   0.00000000e+00,\n",
       "         3.73332192e-04,   0.00000000e+00,   0.00000000e+00,\n",
       "         0.00000000e+00,   1.23686445e-03,   6.40821265e-04,\n",
       "         1.40766259e-03,   0.00000000e+00,   0.00000000e+00,\n",
       "         9.91435487e-05,   6.09416731e-04,   3.60911174e-04,\n",
       "         2.59415089e-04,   7.01911100e-04,   9.51816230e-04,\n",
       "         1.93772098e-04,   1.27600467e-03,   6.47107969e-04,\n",
       "         1.54347826e-04,   0.00000000e+00,   0.00000000e+00,\n",
       "         3.27314637e-04,   1.98333189e-04,   2.06569111e-04,\n",
       "         3.24532794e-04,   1.70643371e-03,   3.41699346e-04,\n",
       "         2.08114718e-04,   5.01478617e-04,   3.13920908e-04,\n",
       "         9.44495180e-04,   7.11857099e-05,   7.70389725e-04,\n",
       "         5.88785254e-04,   1.86499643e-04,   4.56916306e-04,\n",
       "         4.96252864e-04,   5.27238079e-04,   5.32493919e-04,\n",
       "         0.00000000e+00,   0.00000000e+00,   1.78445202e-04,\n",
       "         0.00000000e+00,   4.15594817e-04,   6.47160696e-04,\n",
       "         6.43141902e-04,   3.37795125e-04,   0.00000000e+00,\n",
       "         0.00000000e+00,   3.96867666e-04,   7.33058472e-04,\n",
       "         4.07851139e-04,   1.09635522e-03,   9.86099066e-04,\n",
       "         0.00000000e+00,   0.00000000e+00,   0.00000000e+00,\n",
       "         2.72132197e-04,   0.00000000e+00,   1.94169311e-04,\n",
       "         2.21774553e-03,   9.40728978e-04,   1.18242980e-03,\n",
       "         3.44842094e-04,   1.22590271e-03,   1.42788332e-03,\n",
       "         2.04518962e-04,   0.00000000e+00,   5.86484216e-04,\n",
       "         0.00000000e+00,   0.00000000e+00,   0.00000000e+00,\n",
       "         1.13030822e-03,   0.00000000e+00,   3.21557971e-04,\n",
       "         0.00000000e+00,   1.15488616e-03,   8.61414614e-04,\n",
       "         2.34453075e-04,   0.00000000e+00,   0.00000000e+00,\n",
       "         1.05196295e-03,   7.95445200e-04,   0.00000000e+00,\n",
       "         1.46536397e-03,   4.03270063e-04,   0.00000000e+00,\n",
       "         4.44618395e-04,   0.00000000e+00,   1.69499618e-04,\n",
       "         0.00000000e+00,   5.71438674e-04,   0.00000000e+00,\n",
       "         0.00000000e+00,   0.00000000e+00,   1.31900377e-03,\n",
       "         0.00000000e+00,   7.96356449e-04,   1.46187701e-03,\n",
       "         6.79930092e-04,   4.59414273e-04,   0.00000000e+00,\n",
       "         2.06541239e-04,   6.11177449e-04,   6.03814412e-04,\n",
       "         5.67506396e-04,   1.11033404e-03,   0.00000000e+00,\n",
       "         2.32202214e-03,   2.56186308e-03,   0.00000000e+00,\n",
       "         4.83482919e-04,   6.35372033e-04,   9.75532389e-05,\n",
       "         0.00000000e+00,   4.55177547e-04,   4.02022245e-04,\n",
       "         0.00000000e+00,   1.42133764e-03,   0.00000000e+00,\n",
       "         5.82796774e-04,   7.97571822e-04,   2.21706754e-03,\n",
       "         0.00000000e+00,   0.00000000e+00,   5.82247700e-04,\n",
       "         0.00000000e+00,   6.82770098e-04,   7.12506235e-04,\n",
       "         3.59675785e-04,   3.44711577e-05,   2.12528330e-03,\n",
       "         5.93190616e-04,   4.33417094e-04,   3.92935152e-04,\n",
       "         3.16007864e-04,   0.00000000e+00,   6.13030843e-04,\n",
       "         0.00000000e+00,   6.78162667e-04,   0.00000000e+00,\n",
       "         0.00000000e+00,   0.00000000e+00,   0.00000000e+00,\n",
       "         0.00000000e+00,   3.86762434e-04,   1.85511540e-03,\n",
       "         0.00000000e+00,   1.03381323e-03,   0.00000000e+00,\n",
       "         8.65008261e-04,   3.55429054e-04,   1.51709402e-04,\n",
       "         6.04935514e-04,   3.28798046e-04,   7.77694489e-04,\n",
       "         0.00000000e+00,   1.07587158e-03,   1.63183222e-04,\n",
       "         1.98325596e-04,   7.18471299e-04,   1.88334287e-03,\n",
       "         0.00000000e+00,   6.01320166e-04,   0.00000000e+00,\n",
       "         5.97758788e-04,   2.00831632e-04,   4.00922912e-04,\n",
       "         1.90223975e-03,   2.05098028e-04,   1.90145391e-04,\n",
       "         1.52984271e-04,   0.00000000e+00,   0.00000000e+00,\n",
       "         5.32495293e-04,   1.49410774e-04,   3.12622309e-04,\n",
       "         5.58347486e-04,   1.43078885e-03,   7.03824831e-04,\n",
       "         6.81620593e-04,   1.04637042e-03,   1.99214366e-04,\n",
       "         2.29591852e-03,   5.86503608e-04,   2.80708691e-04,\n",
       "         0.00000000e+00,   1.72208618e-03,   7.46357944e-04,\n",
       "         0.00000000e+00,   1.40354345e-04,   3.33705161e-04,\n",
       "         1.88608464e-04,   4.01301065e-04,   3.35673777e-04,\n",
       "         0.00000000e+00,   2.03823060e-03,   7.67334495e-04,\n",
       "         3.69117355e-04,   1.99600620e-04,   3.49026188e-04,\n",
       "         0.00000000e+00,   0.00000000e+00,   0.00000000e+00,\n",
       "         9.64419646e-05,   0.00000000e+00,   2.06352194e-03,\n",
       "         2.05119864e-04,   0.00000000e+00,   7.21928265e-04,\n",
       "         4.04799213e-04,   9.89220350e-04,   3.88702252e-04,\n",
       "         1.01658809e-04,   0.00000000e+00,   0.00000000e+00,\n",
       "         5.66942264e-04,   7.43635582e-04,   3.51577193e-04,\n",
       "         7.81412621e-04,   0.00000000e+00,   0.00000000e+00,\n",
       "         1.88601117e-04,   0.00000000e+00,   1.16200030e-03,\n",
       "         9.96986501e-04,   3.61461117e-04,   0.00000000e+00,\n",
       "         0.00000000e+00,   1.38002659e-03,   1.96388782e-04,\n",
       "         4.00793460e-04,   0.00000000e+00,   0.00000000e+00,\n",
       "         1.07356537e-03,   0.00000000e+00,   4.08813789e-04,\n",
       "         3.53260362e-04,   2.00501515e-03,   0.00000000e+00,\n",
       "         1.98151055e-04,   5.93583256e-04,   8.37844716e-04,\n",
       "         1.93243289e-04,   2.28495193e-04,   0.00000000e+00,\n",
       "         3.10616372e-04,   2.46213125e-04,   0.00000000e+00,\n",
       "         3.75321411e-04,   7.29807136e-04,   0.00000000e+00,\n",
       "         0.00000000e+00,   0.00000000e+00,   0.00000000e+00,\n",
       "         6.74317909e-04,   6.89996388e-04,   4.03682613e-04,\n",
       "         5.00845571e-04,   6.37592584e-04,   0.00000000e+00,\n",
       "         1.02542216e-03,   5.35375163e-04,   0.00000000e+00,\n",
       "         1.24426775e-03,   0.00000000e+00,   1.61728479e-03,\n",
       "         0.00000000e+00,   0.00000000e+00,   6.01403476e-04,\n",
       "         6.73782890e-05,   2.05447997e-04,   1.01584168e-03,\n",
       "         0.00000000e+00,   9.30550460e-04,   9.58294482e-04,\n",
       "         0.00000000e+00,   1.00726821e-03,   5.16075885e-04,\n",
       "         1.13208395e-03,   1.23821490e-03,   2.15283226e-03,\n",
       "         0.00000000e+00,   0.00000000e+00,   5.04933678e-04,\n",
       "         2.62168468e-04,   1.09749069e-03,   0.00000000e+00,\n",
       "         0.00000000e+00,   0.00000000e+00,   0.00000000e+00,\n",
       "         0.00000000e+00,   5.17873714e-05,   2.12991610e-03,\n",
       "         6.20547027e-04,   5.77693988e-04,   0.00000000e+00,\n",
       "         0.00000000e+00,   1.84114483e-04,   3.43065331e-04,\n",
       "         9.78545784e-04,   1.29164054e-03,   7.23555256e-04,\n",
       "         0.00000000e+00,   0.00000000e+00,   3.29686042e-04,\n",
       "         1.02926833e-03,   7.42660140e-04,   1.44584447e-04,\n",
       "         3.41510342e-04,   0.00000000e+00,   8.67139220e-04,\n",
       "         1.18447776e-03,   0.00000000e+00,   1.12977189e-03,\n",
       "         0.00000000e+00,   1.61823362e-04,   9.90484712e-04,\n",
       "         1.59948112e-03,   5.68899298e-04,   0.00000000e+00,\n",
       "         6.10595167e-04,   2.06904383e-03,   7.77788308e-04,\n",
       "         0.00000000e+00,   0.00000000e+00,   2.11239259e-04,\n",
       "         0.00000000e+00,   0.00000000e+00,   0.00000000e+00,\n",
       "         2.26965137e-04,   5.17308292e-04,   1.92455124e-04,\n",
       "         0.00000000e+00,   6.59073005e-04,   1.22368489e-03,\n",
       "         3.80759944e-04,   0.00000000e+00,   1.34491985e-04,\n",
       "         3.90910492e-04,   1.93253517e-04,   2.72762197e-04,\n",
       "         0.00000000e+00,   3.14385930e-04,   1.02985815e-03,\n",
       "         2.00340190e-04,   3.53810272e-04,   2.74396135e-04,\n",
       "         1.60178477e-04,   0.00000000e+00,   3.20128824e-04,\n",
       "         1.98422254e-04,   2.60252005e-04,   1.83562411e-04,\n",
       "         0.00000000e+00,   0.00000000e+00,   5.56306439e-04,\n",
       "         2.44079450e-04,   0.00000000e+00,   1.36912851e-03,\n",
       "         4.33515426e-04,   0.00000000e+00,   0.00000000e+00,\n",
       "         0.00000000e+00,   0.00000000e+00,   0.00000000e+00,\n",
       "         4.27019223e-04,   3.50323186e-04,   3.66987296e-04,\n",
       "         0.00000000e+00,   1.99794121e-04,   3.07602150e-04,\n",
       "         0.00000000e+00,   0.00000000e+00,   8.59583092e-04,\n",
       "         0.00000000e+00,   0.00000000e+00,   3.07766406e-04,\n",
       "         6.07429689e-04,   6.80140053e-04,   1.64637681e-04,\n",
       "         0.00000000e+00,   5.01095363e-04,   2.73592598e-03,\n",
       "         1.69499618e-04,   0.00000000e+00,   1.97142741e-04,\n",
       "         2.22156342e-03,   6.58518396e-04,   1.57924749e-03,\n",
       "         1.08438335e-04,   5.70619033e-04,   6.46984716e-04,\n",
       "         1.97752593e-04,   3.38160337e-04,   3.35745170e-04,\n",
       "         5.12142923e-04,   0.00000000e+00,   0.00000000e+00,\n",
       "         6.06288605e-04,   7.12014823e-04,   0.00000000e+00,\n",
       "         1.03285751e-03,   6.50767669e-05,   4.47085883e-04,\n",
       "         1.68566002e-04,   1.85435480e-04,   5.41366760e-04,\n",
       "         3.22637742e-04,   0.00000000e+00,   7.68794824e-04,\n",
       "         1.06479911e-03,   6.66088418e-05,   3.94832939e-04,\n",
       "         8.82838353e-04,   7.55909357e-04,   4.02280712e-04,\n",
       "         4.27627033e-04,   4.67289304e-04,   0.00000000e+00,\n",
       "         6.56451202e-04,   0.00000000e+00,   1.08277529e-03,\n",
       "         2.36669568e-04,   8.34567363e-04,   1.21440997e-03,\n",
       "         1.23478261e-03,   3.02311805e-04,   0.00000000e+00,\n",
       "         0.00000000e+00,   2.54108942e-03,   1.37373061e-03,\n",
       "         3.79156093e-04,   0.00000000e+00,   5.78230242e-04,\n",
       "         3.80760851e-04,   3.69475675e-04,   0.00000000e+00,\n",
       "         3.59481628e-04,   0.00000000e+00,   1.01942251e-03,\n",
       "         1.54898650e-03,   2.13787506e-04,   1.10607827e-03,\n",
       "         1.09342635e-03,   1.51709402e-04,   0.00000000e+00,\n",
       "         0.00000000e+00,   0.00000000e+00,   1.75442932e-04,\n",
       "         7.45589280e-04,   1.93020380e-04,   1.18528537e-03,\n",
       "         1.05265759e-04,   3.73475969e-04,   1.42956944e-03,\n",
       "         1.11179739e-03,   0.00000000e+00,   0.00000000e+00,\n",
       "         0.00000000e+00,   6.43307274e-04,   0.00000000e+00,\n",
       "         3.79688571e-04,   1.54822765e-04,   1.09063809e-03,\n",
       "         1.61450354e-03,   0.00000000e+00,   2.77826087e-04,\n",
       "         8.18298931e-04,   0.00000000e+00,   2.44695701e-03,\n",
       "         1.19002456e-03,   3.80757320e-04,   0.00000000e+00,\n",
       "         8.93558405e-04,   0.00000000e+00,   3.24007325e-04,\n",
       "         0.00000000e+00,   1.02281966e-04,   0.00000000e+00,\n",
       "         1.12780077e-03,   2.38336164e-04,   1.04070538e-03,\n",
       "         3.17246747e-04,   3.10616372e-04,   3.53365684e-04,\n",
       "         0.00000000e+00,   2.01668121e-04,   0.00000000e+00,\n",
       "         1.77495070e-04,   1.24377854e-03,   4.83442745e-04,\n",
       "         1.66938210e-03,   1.48107642e-03,   6.90945271e-04,\n",
       "         6.13636908e-04,   0.00000000e+00,   0.00000000e+00,\n",
       "         1.04529857e-03,   0.00000000e+00,   0.00000000e+00,\n",
       "         3.80051170e-04,   1.98745478e-04,   0.00000000e+00,\n",
       "         1.52787431e-03,   2.06045038e-04,   7.47499561e-04,\n",
       "         2.01737977e-04,   6.62654930e-04,   1.34852802e-04,\n",
       "         1.58093656e-03,   1.81613803e-03,   3.80224939e-04,\n",
       "         1.51571323e-04,   1.01861488e-03,   3.18029115e-04,\n",
       "         9.39559960e-04,   1.09000040e-03,   7.05705675e-04,\n",
       "         7.03892616e-04,   1.68566002e-04,   1.19475465e-03,\n",
       "         1.71497585e-04,   3.87056914e-04,   0.00000000e+00,\n",
       "         2.27428095e-03,   7.66186121e-04,   1.60536641e-03,\n",
       "         0.00000000e+00,   1.47884093e-03,   1.63017476e-03,\n",
       "         9.90848673e-05,   3.42739861e-04,   9.34207479e-04,\n",
       "         5.12482566e-04,   6.04516086e-04,   1.42744749e-03,\n",
       "         2.55595784e-03,   1.56311155e-04,   1.28877090e-04,\n",
       "         0.00000000e+00,   7.32217159e-04,   0.00000000e+00,\n",
       "         0.00000000e+00,   1.82347072e-03,   8.38828105e-04,\n",
       "         3.14370186e-04,   7.45056328e-04,   1.38005807e-03,\n",
       "         0.00000000e+00,   0.00000000e+00,   7.72821586e-04,\n",
       "         1.33130200e-04,   1.96995646e-04,   1.11979360e-03,\n",
       "         3.15797277e-04,   1.34741466e-03,   1.21815512e-03,\n",
       "         0.00000000e+00,   0.00000000e+00,   0.00000000e+00,\n",
       "         5.82467191e-04,   1.44536404e-03,   7.54203648e-04,\n",
       "         0.00000000e+00,   0.00000000e+00])"
      ]
     },
     "execution_count": 26,
     "metadata": {},
     "output_type": "execute_result"
    }
   ],
   "source": [
    "model.feature_importances_"
   ]
  },
  {
   "cell_type": "code",
   "execution_count": 27,
   "metadata": {},
   "outputs": [
    {
     "data": {
      "text/plain": [
       "array(['mean radius', 'mean texture', 'mean perimeter', 'mean area',\n",
       "       'mean smoothness', 'mean compactness', 'mean concavity',\n",
       "       'mean concave points', 'mean symmetry', 'mean fractal dimension',\n",
       "       'radius error', 'texture error', 'perimeter error', 'area error',\n",
       "       'smoothness error', 'compactness error', 'concavity error',\n",
       "       'concave points error', 'symmetry error', 'fractal dimension error',\n",
       "       'worst radius', 'worst texture', 'worst perimeter', 'worst area',\n",
       "       'worst smoothness', 'worst compactness', 'worst concavity',\n",
       "       'worst concave points', 'worst symmetry', 'worst fractal dimension'], \n",
       "      dtype='|S23')"
      ]
     },
     "execution_count": 27,
     "metadata": {},
     "output_type": "execute_result"
    }
   ],
   "source": [
    "data.feature_names"
   ]
  },
  {
   "cell_type": "code",
   "execution_count": 35,
   "metadata": {},
   "outputs": [
    {
     "data": {
      "text/plain": [
       "[('mean radius', 0.043562612037496902),\n",
       " ('mean texture', 0.012231667886746964),\n",
       " ('mean perimeter', 0.072818819461578171),\n",
       " ('mean area', 0.028603734957298108),\n",
       " ('mean smoothness', 0.0023098037810452996),\n",
       " ('mean compactness', 0.011459257440029267),\n",
       " ('mean concavity', 0.038009718340713712),\n",
       " ('mean concave points', 0.058855989468282424),\n",
       " ('mean symmetry', 0.0025716346499030716),\n",
       " ('mean fractal dimension', 0.0040331226410124368),\n",
       " ('radius error', 0.012661573255815583),\n",
       " ('texture error', 0.00050018130018130032),\n",
       " ('perimeter error', 0.012153087104129457),\n",
       " ('area error', 0.030908710567832537),\n",
       " ('smoothness error', 0.0018206715418022696),\n",
       " ('compactness error', 0.014181991899030187),\n",
       " ('concavity error', 0.010595757496083024),\n",
       " ('concave points error', 0.010850165824307834),\n",
       " ('symmetry error', 0.00125932211007419),\n",
       " ('fractal dimension error', 0.0020174755316239184),\n",
       " ('worst radius', 0.044892027238668947),\n",
       " ('worst texture', 0.0096259812968089858),\n",
       " ('worst perimeter', 0.042159082059754077),\n",
       " ('worst area', 0.097096534657987246),\n",
       " ('worst smoothness', 0.010043570624587096),\n",
       " ('worst compactness', 0.033069420273383686),\n",
       " ('worst concavity', 0.030197523793812808),\n",
       " ('worst concave points', 0.062761220758163552),\n",
       " ('worst symmetry', 0.014497235879231738),\n",
       " ('worst fractal dimension', 0.0053770563506076504)]"
      ]
     },
     "execution_count": 35,
     "metadata": {},
     "output_type": "execute_result"
    }
   ],
   "source": [
    "zipped_featuringImg = zip(data.feature_names,model.feature_importances_)\n",
    "zipped_featuringImg"
   ]
  },
  {
   "cell_type": "code",
   "execution_count": 36,
   "metadata": {},
   "outputs": [
    {
     "name": "stdout",
     "output_type": "stream",
     "text": [
      "[('worst area', 0.097096534657987246), ('mean perimeter', 0.072818819461578171), ('worst concave points', 0.062761220758163552), ('mean concave points', 0.058855989468282424), ('worst radius', 0.044892027238668947), ('mean radius', 0.043562612037496902), ('worst perimeter', 0.042159082059754077), ('mean concavity', 0.038009718340713712), ('worst compactness', 0.033069420273383686), ('area error', 0.030908710567832537), ('worst concavity', 0.030197523793812808), ('mean area', 0.028603734957298108), ('worst symmetry', 0.014497235879231738), ('compactness error', 0.014181991899030187), ('radius error', 0.012661573255815583), ('mean texture', 0.012231667886746964), ('perimeter error', 0.012153087104129457), ('mean compactness', 0.011459257440029267), ('concave points error', 0.010850165824307834), ('concavity error', 0.010595757496083024), ('worst smoothness', 0.010043570624587096), ('worst texture', 0.0096259812968089858), ('worst fractal dimension', 0.0053770563506076504), ('mean fractal dimension', 0.0040331226410124368), ('mean symmetry', 0.0025716346499030716), ('mean smoothness', 0.0023098037810452996), ('fractal dimension error', 0.0020174755316239184), ('smoothness error', 0.0018206715418022696), ('symmetry error', 0.00125932211007419), ('texture error', 0.00050018130018130032)]\n"
     ]
    }
   ],
   "source": [
    "print sorted(zipped_featuringImg, key=lambda x:x[1], reverse=True)"
   ]
  },
  {
   "cell_type": "code",
   "execution_count": 37,
   "metadata": {
    "collapsed": true
   },
   "outputs": [],
   "source": [
    "index_most_important = list(data.feature_names).index(\"worst area\")"
   ]
  },
  {
   "cell_type": "code",
   "execution_count": 38,
   "metadata": {},
   "outputs": [
    {
     "data": {
      "image/png": "[encoded data removed]",
      "text/plain": [
       "<matplotlib.figure.Figure at 0x11a336390>"
      ]
     },
     "metadata": {},
     "output_type": "display_data"
    }
   ],
   "source": [
    "plt.plot(X[:, index_most_important],Y,'ro')\n",
    "plt.xlabel(\"worst radius\")\n",
    "plt.ylabel(\"response\")\n",
    "plt.ylim(-0.5,1.5)\n",
    "plt.show()"
   ]
  },
  {
   "cell_type": "code",
   "execution_count": 39,
   "metadata": {},
   "outputs": [
    {
     "data": {
      "image/png": "[encoded data removed]",
      "text/plain": [
       "<matplotlib.figure.Figure at 0x11a7a7a10>"
      ]
     },
     "metadata": {},
     "output_type": "display_data"
    }
   ],
   "source": [
    "index_least_important = list(data.feature_names).index(\"texture error\")\n",
    "plt.plot(X[:, index_least_important],Y,'ro')\n",
    "plt.xlabel(\"worst radius\")\n",
    "plt.ylabel(\"response\")\n",
    "plt.ylim(-0.5,1.5)\n",
    "plt.show()"
   ]
  },
  {
   "cell_type": "code",
   "execution_count": 44,
   "metadata": {},
   "outputs": [
    {
     "name": "stdout",
     "output_type": "stream",
     "text": [
      "0.945518453427\n",
      "Running time (sec):  0.354193\n",
      "0.947395151982\n",
      "Running time (sec):  1.495078\n"
     ]
    }
   ],
   "source": [
    "# out of bag score, can replace cross validation\n",
    "\n",
    "# bootstrapping 大约取63%的数据,用取出的数据predict没有被取到的数据->得到error\n",
    "# 然后把所有的error综合起来看 （类似于cross-validation）\n",
    "\n",
    "import time\n",
    "model = RFC(50,oob_score=True)\n",
    "# oob_score不是training score,可理解为cross-validation score\n",
    "start = time.clock()\n",
    "model.fit(X,Y)\n",
    "print(model.oob_score_)\n",
    "print \"Running time (sec): \", (time.clock() - start)\n",
    "\n",
    "from sklearn.model_selection import cross_val_score\n",
    "#这个function可以自动把data分五份，跑模型，然后report data\n",
    "start = time.clock()\n",
    "print cross_val_score(RFC(50), X, Y, cv=5).mean()\n",
    "print \"Running time (sec): \", (time.clock() - start)"
   ]
  },
  {
   "cell_type": "code",
   "execution_count": null,
   "metadata": {
    "collapsed": true
   },
   "outputs": [],
   "source": []
  }
 ],
 "metadata": {
  "kernelspec": {
   "display_name": "Python 2",
   "language": "python",
   "name": "python2"
  },
  "language_info": {
   "codemirror_mode": {
    "name": "ipython",
    "version": 2
   },
   "file_extension": ".py",
   "mimetype": "text/x-python",
   "name": "python",
   "nbconvert_exporter": "python",
   "pygments_lexer": "ipython2",
   "version": "2.7.13"
  }
 },
 "nbformat": 4,
 "nbformat_minor": 2
}
