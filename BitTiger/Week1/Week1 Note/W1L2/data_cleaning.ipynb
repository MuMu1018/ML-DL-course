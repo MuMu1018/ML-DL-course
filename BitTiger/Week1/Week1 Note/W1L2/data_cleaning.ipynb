{
 "cells": [
  {
   "cell_type": "code",
   "execution_count": 1,
   "metadata": {
    "collapsed": true
   },
   "outputs": [],
   "source": [
    "# Kaggle: http:\n"
   ]
  },
  {
   "cell_type": "code",
   "execution_count": 4,
   "metadata": {
    "collapsed": true
   },
   "outputs": [],
   "source": [
    "import numpy as np\n",
    "import pandas as pd\n",
    "from sklearn.cross_validation import train_test_split\n",
    "from sklearn import metrics, cross_validation\n",
    "from sklearn.linear_model import LogisticRegression as logreg\n",
    "from sklearn.cross_validation import cross_val_score\n",
    "from sklearn.metrics import  confusion_matrix\n",
    "from sklearn.metrics import roc_curve\n",
    "import matplotlib.pyplot as plt"
   ]
  },
  {
   "cell_type": "code",
   "execution_count": 10,
   "metadata": {},
   "outputs": [],
   "source": [
    "# read in the data\n",
    "#data = pd.read_csv(\"training.csv\")\n",
    "# data.head()\n",
    "#len(data.index)\n"
   ]
  },
  {
   "cell_type": "code",
   "execution_count": 11,
   "metadata": {
    "collapsed": true
   },
   "outputs": [],
   "source": [
    "#data.info()\n"
   ]
  },
  {
   "cell_type": "code",
   "execution_count": 12,
   "metadata": {
    "collapsed": true
   },
   "outputs": [],
   "source": [
    "#data2 = data.dropna(axis=0, how = \"any\", subset = ['Color',...])\n"
   ]
  },
  {
   "cell_type": "code",
   "execution_count": 13,
   "metadata": {
    "collapsed": true
   },
   "outputs": [],
   "source": [
    "%matplotlib inline"
   ]
  },
  {
   "cell_type": "code",
   "execution_count": 14,
   "metadata": {
    "collapsed": true
   },
   "outputs": [],
   "source": [
    "#data2.IsBadBuy.hist()"
   ]
  },
  {
   "cell_type": "code",
   "execution_count": null,
   "metadata": {
    "collapsed": true
   },
   "outputs": [],
   "source": [
    "#今天：\n",
    "    #掌握 Sklearn 怎么用\n",
    "    #掌握 Logistic regression\n",
    "    #建议看kaggle的一些访谈：关于如何建模和数据处理\n",
    "#答疑：\n",
    "    #dummy variable:\n",
    "        #把原来的category变成数字化的feature（比如有4个categories,就会有4个features）\n",
    "        #我自己的理解（老师说是对的）：就是原来没有什么features之类的，只是数据们属于类A,B,C。于是A，B，C就成了整个数据集的features，然后数据1如果属于类别A，其值就是[1,0,0]. \n",
    "    #sklearn里面有很多很多function\n",
    "    #"
   ]
  }
 ],
 "metadata": {
  "kernelspec": {
   "display_name": "Python 2",
   "language": "python",
   "name": "python2"
  },
  "language_info": {
   "codemirror_mode": {
    "name": "ipython",
    "version": 2
   },
   "file_extension": ".py",
   "mimetype": "text/x-python",
   "name": "python",
   "nbconvert_exporter": "python",
   "pygments_lexer": "ipython2",
   "version": "2.7.13"
  }
 },
 "nbformat": 4,
 "nbformat_minor": 2
}
