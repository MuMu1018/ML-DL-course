{
 "cells": [
  {
   "cell_type": "markdown",
   "metadata": {},
   "source": [
    "## 1. Data type"
   ]
  },
  {
   "cell_type": "code",
   "execution_count": 238,
   "metadata": {},
   "outputs": [
    {
     "name": "stdout",
     "output_type": "stream",
     "text": [
      "We are A\n",
      "We are 'B'\n",
      "We are C\n",
      "We are \n",
      "D\n"
     ]
    }
   ],
   "source": [
    "d1 = 'We are A'\n",
    "d2 = \"We are 'B'\"\n",
    "d3 = \"We are \\\n",
    "C\"\n",
    "d4 = '''We are \n",
    "D'''\n",
    "print(d1)\n",
    "print(d2)\n",
    "print(d3)\n",
    "print(d4)"
   ]
  },
  {
   "cell_type": "code",
   "execution_count": 239,
   "metadata": {},
   "outputs": [
    {
     "data": {
      "text/plain": [
       "int"
      ]
     },
     "execution_count": 239,
     "metadata": {},
     "output_type": "execute_result"
    }
   ],
   "source": [
    "a1 = 1\n",
    "type(a1)"
   ]
  },
  {
   "cell_type": "code",
   "execution_count": 240,
   "metadata": {
    "scrolled": true
   },
   "outputs": [
    {
     "data": {
      "text/plain": [
       "float"
      ]
     },
     "execution_count": 240,
     "metadata": {},
     "output_type": "execute_result"
    }
   ],
   "source": [
    "a2 = 1.0\n",
    "type(a2)"
   ]
  },
  {
   "cell_type": "code",
   "execution_count": 241,
   "metadata": {},
   "outputs": [
    {
     "data": {
      "text/plain": [
       "float"
      ]
     },
     "execution_count": 241,
     "metadata": {},
     "output_type": "execute_result"
    }
   ],
   "source": [
    "a3 = 1.0/1\n",
    "type(a3)"
   ]
  },
  {
   "cell_type": "code",
   "execution_count": 242,
   "metadata": {},
   "outputs": [
    {
     "name": "stdout",
     "output_type": "stream",
     "text": [
      "c = 4\n",
      "d =  1\n",
      "e =  8\n",
      "e =  0\n",
      "f =  0\n",
      "f =  15\n",
      "f =  15\n",
      "f =  -16\n"
     ]
    }
   ],
   "source": [
    "# Bit manipulation \n",
    "c = 2**2\n",
    "print 'c =', c\n",
    "d = 10%3\n",
    "print 'd = ', d\n",
    "e = 1<<3\n",
    "print 'e = ', e\n",
    "e = 1>>1\n",
    "print 'e = ', e\n",
    "f = 15&0\n",
    "print 'f = ', f\n",
    "f = 15|0\n",
    "print 'f = ', f\n",
    "f = 15^0\n",
    "print 'f = ', f\n",
    "f = ~15\n",
    "print 'f = ', f"
   ]
  },
  {
   "cell_type": "code",
   "execution_count": 243,
   "metadata": {},
   "outputs": [
    {
     "name": "stdout",
     "output_type": "stream",
     "text": [
      "a =  False\n",
      "True\n"
     ]
    }
   ],
   "source": [
    "# logic\n",
    "a = True and False\n",
    "print 'a = ', a\n",
    "b = True or False\n",
    "print(b)"
   ]
  },
  {
   "cell_type": "markdown",
   "metadata": {},
   "source": [
    "## 3. Data Structures"
   ]
  },
  {
   "cell_type": "code",
   "execution_count": 244,
   "metadata": {},
   "outputs": [
    {
     "name": "stdout",
     "output_type": "stream",
     "text": [
      "We have 4 Students\n"
     ]
    }
   ],
   "source": [
    "# List \n",
    "# Sequential\n",
    "studentList = ['Amy','Bob','Dave','Prash']\n",
    "studentList2 = [1,1.5,'Amy']\n",
    "print 'We have',len(studentList),'Students'"
   ]
  },
  {
   "cell_type": "code",
   "execution_count": 245,
   "metadata": {},
   "outputs": [
    {
     "name": "stdout",
     "output_type": "stream",
     "text": [
      "Amy\n",
      "Bob\n",
      "Dave\n",
      "Prash\n"
     ]
    }
   ],
   "source": [
    "#\n",
    "for iter in studentList:\n",
    "    print(iter)"
   ]
  },
  {
   "cell_type": "code",
   "execution_count": 246,
   "metadata": {},
   "outputs": [
    {
     "name": "stdout",
     "output_type": "stream",
     "text": [
      "['Amy', 'Ann', 'Dave', 'Prash']\n"
     ]
    }
   ],
   "source": [
    "studentList[1]='Ann'\n",
    "print studentList"
   ]
  },
  {
   "cell_type": "code",
   "execution_count": 247,
   "metadata": {},
   "outputs": [
    {
     "name": "stdout",
     "output_type": "stream",
     "text": [
      "['Amy', 'Bob', 'Fanding', 'Dave', 'Prash']\n"
     ]
    }
   ],
   "source": [
    "B = 'Fanding'\n",
    "studentList = ['Amy','Bob',B,'Dave','Prash']\n",
    "print studentList"
   ]
  },
  {
   "cell_type": "code",
   "execution_count": 248,
   "metadata": {},
   "outputs": [
    {
     "name": "stdout",
     "output_type": "stream",
     "text": [
      "['Amy', 'Bob', 'Fanding', 'Dave', 'Prash', 'David']\n"
     ]
    }
   ],
   "source": [
    "studentList.append('David')\n",
    "print studentList"
   ]
  },
  {
   "cell_type": "code",
   "execution_count": 249,
   "metadata": {},
   "outputs": [
    {
     "name": "stdout",
     "output_type": "stream",
     "text": [
      "['Bob', 'Fanding', 'Dave', 'Prash', 'David']\n"
     ]
    }
   ],
   "source": [
    "del studentList[0]\n",
    "print studentList"
   ]
  },
  {
   "cell_type": "code",
   "execution_count": 250,
   "metadata": {},
   "outputs": [
    {
     "name": "stdout",
     "output_type": "stream",
     "text": [
      "['Bob', 'Dave', 'David', 'Fanding', 'Prash']\n"
     ]
    }
   ],
   "source": [
    "# 排序\n",
    "studentList.sort()\n",
    "print studentList"
   ]
  },
  {
   "cell_type": "code",
   "execution_count": 251,
   "metadata": {},
   "outputs": [
    {
     "name": "stdout",
     "output_type": "stream",
     "text": [
      "['Bob', 'Dave', 'David', 'Fanding', 'Prash']\n",
      "['Bob', 'Dave']\n",
      "['Fanding', 'Prash']\n",
      "['Fanding']\n",
      "['Bob', 'David']\n",
      "['Bob', 'Dave', 'David', 'Fanding']\n",
      "Prash\n"
     ]
    }
   ],
   "source": [
    "# 切片\n",
    "print studentList[:]\n",
    "print studentList[0:2] # 末尾数字不包括在其中\n",
    "print studentList[-2:]\n",
    "print studentList[-2:-1]\n",
    "print studentList[0:4:2]\n",
    "print studentList[:-1] # 省略某个边界值\n",
    "print studentList[-1]"
   ]
  },
  {
   "cell_type": "code",
   "execution_count": 252,
   "metadata": {},
   "outputs": [
    {
     "name": "stdout",
     "output_type": "stream",
     "text": [
      "Other initialization:\n",
      "[1, 1, 1, 1, 1, 1, 1, 1, 1, 1, 1]\n",
      "[1, 3, 5, 7, 9]\n",
      "[1, 1, 1, 1, 1, 1, 1, 1, 1, 1, 1]\n",
      "[1, 1, 1, 1, 1, 1, 1, 1, 1, 1, 1, 1, 3, 5, 7, 9]\n"
     ]
    }
   ],
   "source": [
    "# 常用初始化\n",
    "print 'Other initialization:'\n",
    "list1 = [1 for n in range(0,11)]\n",
    "print list1\n",
    "list2 = [n for n in range(1,11,2)]\n",
    "print list2\n",
    "list3 = [1]*11\n",
    "print list3\n",
    "# 合并\n",
    "list4 = list1 + list2\n",
    "print list4"
   ]
  },
  {
   "cell_type": "code",
   "execution_count": 253,
   "metadata": {},
   "outputs": [
    {
     "name": "stdout",
     "output_type": "stream",
     "text": [
      "Max and Min:\n",
      "9\n",
      "1\n"
     ]
    }
   ],
   "source": [
    "#最值\n",
    "print 'Max and Min:'\n",
    "print max(list4)\n",
    "print min(list4)"
   ]
  },
  {
   "cell_type": "code",
   "execution_count": 254,
   "metadata": {},
   "outputs": [
    {
     "name": "stdout",
     "output_type": "stream",
     "text": [
      "[9, 7, 5, 3, 1, 1, 1, 1, 1, 1, 1, 1, 1, 1, 1, 1]\n"
     ]
    }
   ],
   "source": [
    "#其他函数\n",
    "list4.reverse()\n",
    "print list4"
   ]
  },
  {
   "cell_type": "code",
   "execution_count": 255,
   "metadata": {},
   "outputs": [
    {
     "name": "stdout",
     "output_type": "stream",
     "text": [
      "5\n"
     ]
    }
   ],
   "source": [
    "# Tuple 元组\n",
    "studentList = ('Bob', 'Dave', 'David', 'Fanding', 'Prash')\n",
    "print len(studentList)"
   ]
  },
  {
   "cell_type": "code",
   "execution_count": 256,
   "metadata": {},
   "outputs": [
    {
     "name": "stdout",
     "output_type": "stream",
     "text": [
      "Bob\n",
      "Dave\n",
      "David\n",
      "Fanding\n",
      "Prash\n"
     ]
    }
   ],
   "source": [
    "for i in studentList:\n",
    "    print i"
   ]
  },
  {
   "cell_type": "code",
   "execution_count": 257,
   "metadata": {},
   "outputs": [],
   "source": [
    "# cannot do:\n",
    "# studentList[1] = 'Ann'\n",
    "# studentList.sort()"
   ]
  },
  {
   "cell_type": "code",
   "execution_count": 258,
   "metadata": {},
   "outputs": [
    {
     "name": "stdout",
     "output_type": "stream",
     "text": [
      "4\n"
     ]
    }
   ],
   "source": [
    "# Dictionary 字典\n",
    "\n",
    "# hash 哈希表\n",
    "studentTest = {'Bob':90, 'Dave':80, 'Fanding':81, 'Prash':90}\n",
    "print len(studentTest)"
   ]
  },
  {
   "cell_type": "code",
   "execution_count": 259,
   "metadata": {},
   "outputs": [
    {
     "name": "stdout",
     "output_type": "stream",
     "text": [
      "Fanding\n",
      "Bob\n",
      "Dave\n",
      "Prash\n"
     ]
    }
   ],
   "source": [
    "# 遍历\n",
    "for i in studentTest:\n",
    "    print i"
   ]
  },
  {
   "cell_type": "code",
   "execution_count": 260,
   "metadata": {},
   "outputs": [
    {
     "name": "stdout",
     "output_type": "stream",
     "text": [
      "Fanding 81\n",
      "Bob 90\n",
      "Dave 80\n",
      "Prash 90\n"
     ]
    }
   ],
   "source": [
    "for k,v in studentTest.items():\n",
    "    print k,v"
   ]
  },
  {
   "cell_type": "code",
   "execution_count": 261,
   "metadata": {},
   "outputs": [
    {
     "name": "stdout",
     "output_type": "stream",
     "text": [
      "90\n"
     ]
    }
   ],
   "source": [
    "print studentTest['Bob']"
   ]
  },
  {
   "cell_type": "code",
   "execution_count": 262,
   "metadata": {},
   "outputs": [
    {
     "name": "stdout",
     "output_type": "stream",
     "text": [
      "{'Fanding': 81, 'Bob': 90, 'Dave': 80, 'Prash': 95}\n"
     ]
    }
   ],
   "source": [
    "# 赋值\n",
    "studentTest['Prash'] = 95\n",
    "print(studentTest)"
   ]
  },
  {
   "cell_type": "code",
   "execution_count": 263,
   "metadata": {},
   "outputs": [
    {
     "name": "stdout",
     "output_type": "stream",
     "text": [
      "80\n"
     ]
    }
   ],
   "source": [
    "s = 'Dave'\n",
    "if s in studentTest:\n",
    "    print(studentTest[s])"
   ]
  },
  {
   "cell_type": "markdown",
   "metadata": {},
   "source": [
    "## 4. if, while, for"
   ]
  },
  {
   "cell_type": "code",
   "execution_count": 264,
   "metadata": {
    "collapsed": true
   },
   "outputs": [],
   "source": [
    "stu1 = 'Bob'"
   ]
  },
  {
   "cell_type": "markdown",
   "metadata": {},
   "source": [
    "## 5. Numpy"
   ]
  },
  {
   "cell_type": "code",
   "execution_count": 265,
   "metadata": {},
   "outputs": [
    {
     "name": "stdout",
     "output_type": "stream",
     "text": [
      "[1 2 3 4]\n",
      "(4,)\n",
      "1\n"
     ]
    }
   ],
   "source": [
    "import numpy as np\n",
    "\n",
    "# If you used to be a Matlab user, refer to the following site:\n",
    "# http://docs.scipy.org/doc/numpy-dev/user/numpy-for-matlab-user.html\n",
    "\n",
    "#\n",
    "a = np.array([1,2,3,4])\n",
    "print a\n",
    "print a.shape\n",
    "print a.ndim"
   ]
  },
  {
   "cell_type": "code",
   "execution_count": 266,
   "metadata": {},
   "outputs": [
    {
     "name": "stdout",
     "output_type": "stream",
     "text": [
      "[[1]\n",
      " [2]\n",
      " [3]\n",
      " [4]]\n",
      "(4, 1)\n",
      "2\n",
      "<type 'numpy.ndarray'>\n",
      "4\n"
     ]
    }
   ],
   "source": [
    "b = np.array([[1],[2],[3],[4]])\n",
    "print b\n",
    "print b.shape\n",
    "print b.ndim\n",
    "print type(b)\n",
    "print b.size"
   ]
  },
  {
   "cell_type": "code",
   "execution_count": 267,
   "metadata": {},
   "outputs": [
    {
     "name": "stdout",
     "output_type": "stream",
     "text": [
      "[5 6 7 8]\n",
      "\n",
      "[[1 2]\n",
      " [3 4]]\n",
      "\n",
      "[[1 1 1 1 1 1 1 1 1 1 1 1 1 1 1 1 1]\n",
      " [1 1 1 1 1 1 1 1 1 1 1 1 1 1 1 1 1]\n",
      " [1 1 1 1 1 1 1 1 1 1 1 1 1 1 1 1 1]]\n",
      "\n",
      "[ 1.    1.25  1.5   1.75  2.    2.25  2.5   2.75  3.  ]\n",
      "\n",
      "[[ 0.  0.  0.]\n",
      " [ 0.  0.  0.]]\n",
      "\n",
      "[[ 1.  1.]\n",
      " [ 1.  1.]\n",
      " [ 1.  1.]]\n",
      "\n",
      "[[ 1.  0.  0.]\n",
      " [ 0.  1.  0.]\n",
      " [ 0.  0.  1.]]\n"
     ]
    }
   ],
   "source": [
    "# initialization\n",
    "c = np.array([5,6,7,8])\n",
    "print c \n",
    "print\n",
    "print np.array([[1,2],[3,4]])\n",
    "print\n",
    "print np.array([1]*51).reshape(3,17)\n",
    "print\n",
    "print np.linspace(1,3,9)\n",
    "print\n",
    "print np.zeros((2,3))\n",
    "print\n",
    "print np.ones((3,2))\n",
    "print\n",
    "print np.eye(3)"
   ]
  },
  {
   "cell_type": "code",
   "execution_count": 268,
   "metadata": {
    "collapsed": true
   },
   "outputs": [],
   "source": [
    "# elemen wise operation"
   ]
  },
  {
   "cell_type": "code",
   "execution_count": 269,
   "metadata": {},
   "outputs": [
    {
     "name": "stdout",
     "output_type": "stream",
     "text": [
      "[1 2 3 4]\n",
      "[5 6 7 8]\n",
      "[100   2   3   4]\n",
      "[100   2   3   4]\n"
     ]
    }
   ],
   "source": [
    "# shallow copy & deep copy\n",
    "# 节约内存，在opencv中也有这样的做法\n",
    "# No copy\n",
    "print a\n",
    "print c\n",
    "c = a\n",
    "a[0]=100\n",
    "print a\n",
    "print c"
   ]
  },
  {
   "cell_type": "code",
   "execution_count": 270,
   "metadata": {},
   "outputs": [
    {
     "name": "stdout",
     "output_type": "stream",
     "text": [
      "c = a: False\n",
      "c.base = a: True\n",
      "(2, 2)\n",
      "(4,)\n",
      "\n",
      "[10  2  3  4]\n",
      "[100   2   3   4]\n"
     ]
    }
   ],
   "source": [
    "# view\n",
    "c = a.view()\n",
    "print 'c = a:',c is a\n",
    "print 'c.base = a:',c.base is a\n",
    "c.shape = 2,2\n",
    "print c.shape\n",
    "print a.shape\n",
    "print\n",
    "# deep copy\n",
    "c = a.copy()\n",
    "a[0] = 10\n",
    "print a\n",
    "print c"
   ]
  },
  {
   "cell_type": "code",
   "execution_count": 271,
   "metadata": {},
   "outputs": [
    {
     "name": "stdout",
     "output_type": "stream",
     "text": [
      "[[1]\n",
      " [2]\n",
      " [3]]\n",
      "\n",
      "[[1 2 3]\n",
      " [2 4 6]\n",
      " [3 6 9]]\n"
     ]
    }
   ],
   "source": [
    "a = np.array([1,2,3])\n",
    "a.shape = (3,1)\n",
    "print a\n",
    "print\n",
    "a = np.dot(a,a.transpose())\n",
    "print a"
   ]
  },
  {
   "cell_type": "markdown",
   "metadata": {},
   "source": [
    "## 6. Pandas "
   ]
  },
  {
   "cell_type": "markdown",
   "metadata": {},
   "source": [
    "### series:\n",
    "\n",
    "### dataframe:"
   ]
  },
  {
   "cell_type": "code",
   "execution_count": 272,
   "metadata": {},
   "outputs": [
    {
     "name": "stdout",
     "output_type": "stream",
     "text": [
      "0      Bob\n",
      "1     Dave\n",
      "2    Prash\n",
      "3      NaN\n",
      "4    David\n",
      "dtype: object\n"
     ]
    }
   ],
   "source": [
    "import numpy as np\n",
    "import pandas as pd\n",
    "# series\n",
    "studentSeries = pd.Series(['Bob','Dave','Prash',np.nan,'David'])\n",
    "print studentSeries"
   ]
  },
  {
   "cell_type": "code",
   "execution_count": 273,
   "metadata": {},
   "outputs": [
    {
     "name": "stdout",
     "output_type": "stream",
     "text": [
      "       Grade Level  TestResult\n",
      "Bob        1  lvl1          90\n",
      "Dave       2  lvl2          80\n",
      "Prash      3  lvl3          95\n",
      "David      4  lvl4          90\n"
     ]
    }
   ],
   "source": [
    "# dataframe\n",
    "index = ['Bob','Dave','Prash','David']\n",
    "studentDataFrame = pd.DataFrame({\n",
    "    'Grade':np.array([1,2,3,4], dtype = 'int32'),\n",
    "    'Level': pd.Categorical(['lvl1','lvl2','lvl3','lvl4']),\n",
    "    'TestResult': [90,80,95,90]},\n",
    "    index = index,)\n",
    "print studentDataFrame"
   ]
  },
  {
   "cell_type": "code",
   "execution_count": 274,
   "metadata": {},
   "outputs": [
    {
     "name": "stdout",
     "output_type": "stream",
     "text": [
      "      Level  Grade\n",
      "Bob    lvl1      1\n",
      "Dave   lvl2      2\n",
      "Prash  lvl3      3\n",
      "David  lvl4      4\n",
      "\n",
      "       Grade Level  TestResult\n",
      "Bob        1  lvl1          90\n",
      "Dave       2  lvl2          80\n",
      "Prash      3  lvl3          95\n"
     ]
    }
   ],
   "source": [
    "print studentDataFrame[['Level','Grade']]\n",
    "print\n",
    "print studentDataFrame['Bob':'Prash']"
   ]
  },
  {
   "cell_type": "code",
   "execution_count": 275,
   "metadata": {},
   "outputs": [
    {
     "name": "stdout",
     "output_type": "stream",
     "text": [
      "       Grade Level  TestResult\n",
      "Bob        1  lvl1          90\n",
      "Dave       2  lvl2          80\n",
      "Prash      3  lvl3          95\n"
     ]
    }
   ],
   "source": [
    "# 对行和列同时切片\n",
    "print studentDataFrame.iloc[0:3,0:3]"
   ]
  },
  {
   "cell_type": "code",
   "execution_count": 276,
   "metadata": {},
   "outputs": [
    {
     "name": "stdout",
     "output_type": "stream",
     "text": [
      "       Grade Level  TestResult Gender\n",
      "Bob        1  lvl1          90      F\n",
      "Dave       2  lvl2          80      M\n",
      "Prash      3  lvl3          95      F\n",
      "David      4  lvl4          90      M\n"
     ]
    }
   ],
   "source": [
    "Gender = ['F','M','F','M']\n",
    "studentDataFrame['Gender'] = Gender\n",
    "print studentDataFrame"
   ]
  },
  {
   "cell_type": "code",
   "execution_count": 277,
   "metadata": {},
   "outputs": [
    {
     "data": {
      "text/html": [
       "<div>\n",
       "<style>\n",
       "    .dataframe thead tr:only-child th {\n",
       "        text-align: right;\n",
       "    }\n",
       "\n",
       "    .dataframe thead th {\n",
       "        text-align: left;\n",
       "    }\n",
       "\n",
       "    .dataframe tbody tr th {\n",
       "        vertical-align: top;\n",
       "    }\n",
       "</style>\n",
       "<table border=\"1\" class=\"dataframe\">\n",
       "  <thead>\n",
       "    <tr style=\"text-align: right;\">\n",
       "      <th></th>\n",
       "      <th>Grade</th>\n",
       "      <th>Level</th>\n",
       "      <th>TestResult</th>\n",
       "      <th>Gender</th>\n",
       "    </tr>\n",
       "  </thead>\n",
       "  <tbody>\n",
       "    <tr>\n",
       "      <th>Bob</th>\n",
       "      <td>1</td>\n",
       "      <td>lvl1</td>\n",
       "      <td>90</td>\n",
       "      <td>F</td>\n",
       "    </tr>\n",
       "    <tr>\n",
       "      <th>Dave</th>\n",
       "      <td>2</td>\n",
       "      <td>lvl2</td>\n",
       "      <td>80</td>\n",
       "      <td>M</td>\n",
       "    </tr>\n",
       "  </tbody>\n",
       "</table>\n",
       "</div>"
      ],
      "text/plain": [
       "      Grade Level  TestResult Gender\n",
       "Bob       1  lvl1          90      F\n",
       "Dave      2  lvl2          80      M"
      ]
     },
     "execution_count": 277,
     "metadata": {},
     "output_type": "execute_result"
    }
   ],
   "source": [
    "# obserbations\n",
    "studentDataFrame.head(2)"
   ]
  },
  {
   "cell_type": "code",
   "execution_count": 278,
   "metadata": {},
   "outputs": [
    {
     "data": {
      "text/html": [
       "<div>\n",
       "<style>\n",
       "    .dataframe thead tr:only-child th {\n",
       "        text-align: right;\n",
       "    }\n",
       "\n",
       "    .dataframe thead th {\n",
       "        text-align: left;\n",
       "    }\n",
       "\n",
       "    .dataframe tbody tr th {\n",
       "        vertical-align: top;\n",
       "    }\n",
       "</style>\n",
       "<table border=\"1\" class=\"dataframe\">\n",
       "  <thead>\n",
       "    <tr style=\"text-align: right;\">\n",
       "      <th></th>\n",
       "      <th>Grade</th>\n",
       "      <th>Level</th>\n",
       "      <th>TestResult</th>\n",
       "      <th>Gender</th>\n",
       "    </tr>\n",
       "  </thead>\n",
       "  <tbody>\n",
       "    <tr>\n",
       "      <th>Prash</th>\n",
       "      <td>3</td>\n",
       "      <td>lvl3</td>\n",
       "      <td>95</td>\n",
       "      <td>F</td>\n",
       "    </tr>\n",
       "    <tr>\n",
       "      <th>David</th>\n",
       "      <td>4</td>\n",
       "      <td>lvl4</td>\n",
       "      <td>90</td>\n",
       "      <td>M</td>\n",
       "    </tr>\n",
       "  </tbody>\n",
       "</table>\n",
       "</div>"
      ],
      "text/plain": [
       "       Grade Level  TestResult Gender\n",
       "Prash      3  lvl3          95      F\n",
       "David      4  lvl4          90      M"
      ]
     },
     "execution_count": 278,
     "metadata": {},
     "output_type": "execute_result"
    }
   ],
   "source": [
    "studentDataFrame.tail(2)"
   ]
  },
  {
   "cell_type": "code",
   "execution_count": 279,
   "metadata": {},
   "outputs": [
    {
     "data": {
      "text/html": [
       "<div>\n",
       "<style>\n",
       "    .dataframe thead tr:only-child th {\n",
       "        text-align: right;\n",
       "    }\n",
       "\n",
       "    .dataframe thead th {\n",
       "        text-align: left;\n",
       "    }\n",
       "\n",
       "    .dataframe tbody tr th {\n",
       "        vertical-align: top;\n",
       "    }\n",
       "</style>\n",
       "<table border=\"1\" class=\"dataframe\">\n",
       "  <thead>\n",
       "    <tr style=\"text-align: right;\">\n",
       "      <th></th>\n",
       "      <th>Grade</th>\n",
       "      <th>Level</th>\n",
       "      <th>TestResult</th>\n",
       "      <th>Gender</th>\n",
       "    </tr>\n",
       "  </thead>\n",
       "  <tbody>\n",
       "    <tr>\n",
       "      <th>Dave</th>\n",
       "      <td>2</td>\n",
       "      <td>lvl2</td>\n",
       "      <td>80</td>\n",
       "      <td>M</td>\n",
       "    </tr>\n",
       "    <tr>\n",
       "      <th>Bob</th>\n",
       "      <td>1</td>\n",
       "      <td>lvl1</td>\n",
       "      <td>90</td>\n",
       "      <td>F</td>\n",
       "    </tr>\n",
       "    <tr>\n",
       "      <th>David</th>\n",
       "      <td>4</td>\n",
       "      <td>lvl4</td>\n",
       "      <td>90</td>\n",
       "      <td>M</td>\n",
       "    </tr>\n",
       "    <tr>\n",
       "      <th>Prash</th>\n",
       "      <td>3</td>\n",
       "      <td>lvl3</td>\n",
       "      <td>95</td>\n",
       "      <td>F</td>\n",
       "    </tr>\n",
       "  </tbody>\n",
       "</table>\n",
       "</div>"
      ],
      "text/plain": [
       "       Grade Level  TestResult Gender\n",
       "Dave       2  lvl2          80      M\n",
       "Bob        1  lvl1          90      F\n",
       "David      4  lvl4          90      M\n",
       "Prash      3  lvl3          95      F"
      ]
     },
     "execution_count": 279,
     "metadata": {},
     "output_type": "execute_result"
    }
   ],
   "source": [
    "studentDataFrame.sort_values(by = 'TestResult')"
   ]
  },
  {
   "cell_type": "code",
   "execution_count": null,
   "metadata": {
    "collapsed": true
   },
   "outputs": [],
   "source": []
  },
  {
   "cell_type": "code",
   "execution_count": null,
   "metadata": {
    "collapsed": true
   },
   "outputs": [],
   "source": []
  },
  {
   "cell_type": "code",
   "execution_count": null,
   "metadata": {
    "collapsed": true
   },
   "outputs": [],
   "source": []
  }
 ],
 "metadata": {
  "kernelspec": {
   "display_name": "Python 2",
   "language": "python",
   "name": "python2"
  },
  "language_info": {
   "codemirror_mode": {
    "name": "ipython",
    "version": 2
   },
   "file_extension": ".py",
   "mimetype": "text/x-python",
   "name": "python",
   "nbconvert_exporter": "python",
   "pygments_lexer": "ipython2",
   "version": "2.7.13"
  }
 },
 "nbformat": 4,
 "nbformat_minor": 2
}
